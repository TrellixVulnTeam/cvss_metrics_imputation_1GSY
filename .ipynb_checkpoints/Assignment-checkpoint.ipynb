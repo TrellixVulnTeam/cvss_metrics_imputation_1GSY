{
 "cells": [
  {
   "cell_type": "code",
   "execution_count": 1,
   "id": "45f10bcd",
   "metadata": {},
   "outputs": [],
   "source": [
    "import pandas as pd\n",
    "import matplotlib.pyplot as plt\n",
    "\n",
    "from sklearn.ensemble import RandomForestClassifier\n",
    "from sklearn.model_selection import train_test_split, GridSearchCV\n",
    "from sklearn.preprocessing import OneHotEncoder\n",
    "from sklearn.feature_extraction.text import TfidfVectorizer\n",
    "\n",
    "from sklearn.compose import ColumnTransformer\n",
    "from sklearn.pipeline import Pipeline\n",
    "from sklearn.metrics import classification_report\n",
    "from sklearn.base import BaseEstimator\n",
    "\n",
    "from joblib import dump\n",
    "from typing import List, Dict, Tuple\n",
    "\n",
    "from src.dataloader import DataLoader\n",
    "from src.json_parser import JsonParser\n",
    "import logging\n",
    "logging.basicConfig(encoding='utf-8', level=logging.INFO)"
   ]
  },
  {
   "cell_type": "markdown",
   "id": "3bee6ff6",
   "metadata": {},
   "source": [
    "### 1. Loading and processing data"
   ]
  },
  {
   "cell_type": "markdown",
   "id": "dcee3ec8",
   "metadata": {},
   "source": [
    "Let us first download data. The following  runs the data extraction from the nvd.nist.gov site, unzips the files and stores to the `data` folder by default. "
   ]
  },
  {
   "cell_type": "code",
   "execution_count": 2,
   "id": "69475884",
   "metadata": {},
   "outputs": [],
   "source": [
    "dl = DataLoader(data_path_name = 'data')"
   ]
  },
  {
   "cell_type": "code",
   "execution_count": 3,
   "id": "39b9a2e9",
   "metadata": {},
   "outputs": [],
   "source": [
    "# Generate URLs for the CVE files\n",
    "urls = [f\"https://nvd.nist.gov/feeds/json/cve/1.1/nvdcve-1.1-{year}.json.zip\" for year in range(2002, 2023)]"
   ]
  },
  {
   "cell_type": "code",
   "execution_count": 4,
   "id": "6744c039",
   "metadata": {},
   "outputs": [
    {
     "name": "stderr",
     "output_type": "stream",
     "text": [
      "INFO:root:Finished writing to nvdcve-1.1-2002.json\n",
      "INFO:root:Finished writing to nvdcve-1.1-2003.json\n",
      "INFO:root:Finished writing to nvdcve-1.1-2004.json\n",
      "INFO:root:Finished writing to nvdcve-1.1-2005.json\n",
      "INFO:root:Finished writing to nvdcve-1.1-2006.json\n",
      "INFO:root:Finished writing to nvdcve-1.1-2007.json\n",
      "INFO:root:Finished writing to nvdcve-1.1-2008.json\n",
      "INFO:root:Finished writing to nvdcve-1.1-2009.json\n",
      "INFO:root:Finished writing to nvdcve-1.1-2010.json\n",
      "INFO:root:Finished writing to nvdcve-1.1-2011.json\n",
      "INFO:root:Finished writing to nvdcve-1.1-2012.json\n",
      "INFO:root:Finished writing to nvdcve-1.1-2013.json\n",
      "INFO:root:Finished writing to nvdcve-1.1-2014.json\n",
      "INFO:root:Finished writing to nvdcve-1.1-2015.json\n",
      "INFO:root:Finished writing to nvdcve-1.1-2016.json\n",
      "INFO:root:Finished writing to nvdcve-1.1-2017.json\n",
      "INFO:root:Finished writing to nvdcve-1.1-2018.json\n",
      "INFO:root:Finished writing to nvdcve-1.1-2019.json\n",
      "INFO:root:Finished writing to nvdcve-1.1-2020.json\n",
      "INFO:root:Finished writing to nvdcve-1.1-2021.json\n",
      "INFO:root:Finished writing to nvdcve-1.1-2022.json\n"
     ]
    }
   ],
   "source": [
    "# Filenames of the stored files\n",
    "filenames = dl.download_unzip_store_from_urls(urls)"
   ]
  },
  {
   "cell_type": "markdown",
   "id": "fc2f47a9",
   "metadata": {},
   "source": [
    "Let us now parse the data and construct the dataframe. The following cell parses the downloaded files, extracts some of the fields, constructs a dataframe for each year and concatenates them."
   ]
  },
  {
   "cell_type": "code",
   "execution_count": 5,
   "id": "269f936c",
   "metadata": {},
   "outputs": [
    {
     "name": "stderr",
     "output_type": "stream",
     "text": [
      "INFO:root:Extracting data from: nvdcve-1.1-2002.json\n",
      "INFO:root:Finished extracting data from: nvdcve-1.1-2002.json\n",
      "INFO:root:Extracting data from: nvdcve-1.1-2003.json\n",
      "INFO:root:Finished extracting data from: nvdcve-1.1-2003.json\n",
      "INFO:root:Extracting data from: nvdcve-1.1-2004.json\n",
      "INFO:root:Finished extracting data from: nvdcve-1.1-2004.json\n",
      "INFO:root:Extracting data from: nvdcve-1.1-2005.json\n",
      "INFO:root:Finished extracting data from: nvdcve-1.1-2005.json\n",
      "INFO:root:Extracting data from: nvdcve-1.1-2006.json\n",
      "INFO:root:Finished extracting data from: nvdcve-1.1-2006.json\n",
      "INFO:root:Extracting data from: nvdcve-1.1-2007.json\n",
      "INFO:root:Finished extracting data from: nvdcve-1.1-2007.json\n",
      "INFO:root:Extracting data from: nvdcve-1.1-2008.json\n",
      "INFO:root:Finished extracting data from: nvdcve-1.1-2008.json\n",
      "INFO:root:Extracting data from: nvdcve-1.1-2009.json\n",
      "INFO:root:Finished extracting data from: nvdcve-1.1-2009.json\n",
      "INFO:root:Extracting data from: nvdcve-1.1-2010.json\n",
      "INFO:root:Finished extracting data from: nvdcve-1.1-2010.json\n",
      "INFO:root:Extracting data from: nvdcve-1.1-2011.json\n",
      "INFO:root:Finished extracting data from: nvdcve-1.1-2011.json\n",
      "INFO:root:Extracting data from: nvdcve-1.1-2012.json\n",
      "INFO:root:Finished extracting data from: nvdcve-1.1-2012.json\n",
      "INFO:root:Extracting data from: nvdcve-1.1-2013.json\n",
      "INFO:root:Finished extracting data from: nvdcve-1.1-2013.json\n",
      "INFO:root:Extracting data from: nvdcve-1.1-2014.json\n",
      "INFO:root:Finished extracting data from: nvdcve-1.1-2014.json\n",
      "INFO:root:Extracting data from: nvdcve-1.1-2015.json\n",
      "INFO:root:Finished extracting data from: nvdcve-1.1-2015.json\n",
      "INFO:root:Extracting data from: nvdcve-1.1-2016.json\n",
      "INFO:root:Finished extracting data from: nvdcve-1.1-2016.json\n",
      "INFO:root:Extracting data from: nvdcve-1.1-2017.json\n",
      "INFO:root:Finished extracting data from: nvdcve-1.1-2017.json\n",
      "INFO:root:Extracting data from: nvdcve-1.1-2018.json\n",
      "INFO:root:Finished extracting data from: nvdcve-1.1-2018.json\n",
      "INFO:root:Extracting data from: nvdcve-1.1-2019.json\n",
      "INFO:root:Finished extracting data from: nvdcve-1.1-2019.json\n",
      "INFO:root:Extracting data from: nvdcve-1.1-2020.json\n",
      "INFO:root:Finished extracting data from: nvdcve-1.1-2020.json\n",
      "INFO:root:Extracting data from: nvdcve-1.1-2021.json\n",
      "INFO:root:Finished extracting data from: nvdcve-1.1-2021.json\n",
      "INFO:root:Extracting data from: nvdcve-1.1-2022.json\n",
      "INFO:root:Finished extracting data from: nvdcve-1.1-2022.json\n",
      "INFO:root:Finished extract data\n"
     ]
    }
   ],
   "source": [
    "jp = JsonParser(data_path_name=\"data\")\n",
    "merged_data = jp.generate_dataframe(filenames)"
   ]
  },
  {
   "cell_type": "code",
   "execution_count": 6,
   "id": "eb85c350",
   "metadata": {},
   "outputs": [],
   "source": [
    "# remove entries, where no baseScore (both v2 and v3) is present, as these cannot contribute to model development\n",
    "merged_data_cleaned = merged_data[~((merged_data.baseScore_v2.isnull())& (merged_data.baseScore_v3.isnull()))]"
   ]
  },
  {
   "cell_type": "code",
   "execution_count": 7,
   "id": "44828eaa",
   "metadata": {},
   "outputs": [
    {
     "name": "stdout",
     "output_type": "stream",
     "text": [
      "False    0.56756\n",
      "True     0.43244\n",
      "Name: baseScore_v3, dtype: float64\n"
     ]
    }
   ],
   "source": [
    "# Proportion of observations with v3 baseScore absent\n",
    "print(merged_data_cleaned[\"baseScore_v3\"].isna().value_counts(normalize=True))"
   ]
  },
  {
   "cell_type": "markdown",
   "id": "aeb88ef6",
   "metadata": {},
   "source": [
    "Just under a half of observations do not contain a v3 baseScore. The attack vector and the corresponding metrics\n",
    "are also missing for the same entries."
   ]
  },
  {
   "cell_type": "code",
   "execution_count": 8,
   "id": "d53cf5f5",
   "metadata": {},
   "outputs": [],
   "source": [
    "# Extract the data with no v3 baseScore, this is the data, final predictions should be made on\n",
    "merged_data_cleaned_no_v3 = merged_data[merged_data.baseScore_v3.isnull()]\n",
    "\n",
    "# Extract the data with v3 baseScore, this is the data, used for model development\n",
    "merged_data_cleaned_v3 = merged_data[~merged_data.baseScore_v3.isnull()]"
   ]
  },
  {
   "cell_type": "code",
   "execution_count": 9,
   "id": "665a39df",
   "metadata": {},
   "outputs": [
    {
     "data": {
      "text/plain": [
       "<AxesSubplot:>"
      ]
     },
     "execution_count": 9,
     "metadata": {},
     "output_type": "execute_result"
    },
    {
     "data": {
      "image/png": "[encoded data removed]",
      "text/plain": [
       "<Figure size 432x288 with 1 Axes>"
      ]
     },
     "metadata": {
      "needs_background": "light"
     },
     "output_type": "display_data"
    }
   ],
   "source": [
    "# The distribution of scope variable in the data used for modelling\n",
    "merged_data_cleaned_v3[\"scope_v3\"].hist()\n",
    "\n",
    "# The unchanged class dominates the changed class in the scope. For simplcity, sampling to balance the classes is not\n",
    "# investigated. In terms of specification, predicting the scope variable is a binary classification task."
   ]
  },
  {
   "cell_type": "code",
   "execution_count": 10,
   "id": "0b2e3ca7",
   "metadata": {},
   "outputs": [
    {
     "name": "stdout",
     "output_type": "stream",
     "text": [
      "confidentialityImpact_v3\n"
     ]
    },
    {
     "data": {
      "image/png": "[encoded data removed]",
      "text/plain": [
       "<Figure size 432x288 with 1 Axes>"
      ]
     },
     "metadata": {
      "needs_background": "light"
     },
     "output_type": "display_data"
    },
    {
     "name": "stdout",
     "output_type": "stream",
     "text": [
      "integrityImpact_v3\n"
     ]
    },
    {
     "data": {
      "image/png": "[encoded data removed]",
      "text/plain": [
       "<Figure size 432x288 with 1 Axes>"
      ]
     },
     "metadata": {
      "needs_background": "light"
     },
     "output_type": "display_data"
    },
    {
     "name": "stdout",
     "output_type": "stream",
     "text": [
      "availabilityImpact_v3\n"
     ]
    },
    {
     "data": {
      "image/png": "[encoded data removed]",
      "text/plain": [
       "<Figure size 432x288 with 1 Axes>"
      ]
     },
     "metadata": {
      "needs_background": "light"
     },
     "output_type": "display_data"
    }
   ],
   "source": [
    "# The distribution of each of the impact metrics in the data used for modelling\n",
    "for impact_metric in [\"confidentialityImpact_v3\", \"integrityImpact_v3\", \"availabilityImpact_v3\"]:\n",
    "    print(impact_metric)\n",
    "    merged_data_cleaned_v3[impact_metric].hist()\n",
    "    plt.show()"
   ]
  },
  {
   "cell_type": "markdown",
   "id": "fd4c0e1b",
   "metadata": {},
   "source": [
    "### 2. Predicting scope"
   ]
  },
  {
   "cell_type": "markdown",
   "id": "078eca9a",
   "metadata": {},
   "source": [
    "The scope metric is specific to v3. The attempt here is to use v2 metrics as well as the TF-IDF features from the description to develop a model to predict it. Here Random Forest is used as a baseline model to deal with correlated features."
   ]
  },
  {
   "cell_type": "code",
   "execution_count": 11,
   "id": "716602c1",
   "metadata": {},
   "outputs": [],
   "source": [
    "# Consider the v2 CVSS metrics. Note that the vector string and base score are not used, as they carry the information, \n",
    "# already represented by the metrics values.\n",
    "\n",
    "v2_metrics = ['accessVector_v2',\n",
    "              'accessComplexity_v2',\n",
    "              'authentication_v2',\n",
    "              'confidentialityImpact_v2',\n",
    "              'integrityImpact_v2',\n",
    "              'availabilityImpact_v2']"
   ]
  },
  {
   "cell_type": "code",
   "execution_count": 12,
   "id": "c55222e1",
   "metadata": {},
   "outputs": [],
   "source": [
    "# The initial split into train and test data allows to generate the test sets, where the final performance is validated.\n",
    "\n",
    "feat_train, feat_test, y_train, y_test = \\\n",
    "    train_test_split(merged_data_cleaned_v3,\n",
    "                     merged_data_cleaned_v3[[\"scope_v3\",\n",
    "                                             \"confidentialityImpact_v3\",\n",
    "                                             \"integrityImpact_v3\",\n",
    "                                             \"availabilityImpact_v3\"]],\n",
    "                     shuffle = True,\n",
    "                     test_size = .2, \n",
    "                     random_state=42)"
   ]
  },
  {
   "cell_type": "code",
   "execution_count": 13,
   "id": "dec568af",
   "metadata": {},
   "outputs": [],
   "source": [
    "# one hot encoder handles categorical features. Ignore the unseen tokens to handle new words in test data\n",
    "ohe = OneHotEncoder(handle_unknown='ignore')\n",
    "\n",
    "# vectoriser handles the natural text in description by extacting the tf-idf features\n",
    "vectoriser = TfidfVectorizer(stop_words={\"english\"}, max_features = 500)"
   ]
  },
  {
   "cell_type": "code",
   "execution_count": 14,
   "id": "fb4806a1",
   "metadata": {},
   "outputs": [],
   "source": [
    "# preprocessor combines the operators above\n",
    "\n",
    "preprocessor = ColumnTransformer(\n",
    "    transformers=[\n",
    "        (\"text\", vectoriser, \"description\"),\n",
    "        (\"cat\", ohe, v2_metrics),\n",
    "    ]\n",
    ")"
   ]
  },
  {
   "cell_type": "code",
   "execution_count": 15,
   "id": "4eac4d24",
   "metadata": {},
   "outputs": [],
   "source": [
    "# the classifier used here (as discussed previously) is the Random Forest classifier\n",
    "\n",
    "rf = RandomForestClassifier()"
   ]
  },
  {
   "cell_type": "code",
   "execution_count": 16,
   "id": "0b44028a",
   "metadata": {},
   "outputs": [],
   "source": [
    "# clf object reprsents the pipeline that combines the preprocessing and modelling steps\n",
    "\n",
    "clf = Pipeline(\n",
    "    steps=[(\"preprocessor\", preprocessor),\n",
    "           (\"classifier\", rf)]\n",
    ")"
   ]
  },
  {
   "cell_type": "code",
   "execution_count": 17,
   "id": "772b3e8f",
   "metadata": {},
   "outputs": [],
   "source": [
    "# param_grid reprsents the parameter grid, where some of the key hyperparameters are explored. The list\n",
    "# is non-exhaustive. The depth of a tree, number of trees and the class weighting are explored in random forest.\n",
    "# Maximum features used in the TF-IDF vectorised are also explored.\n",
    "\n",
    "param_grid = {\n",
    "    \"preprocessor__text__max_features\": [250, 1000, 5000],\n",
    "    \"classifier__n_estimators\": [20, 50, 100],\n",
    "    \"classifier__class_weight\": [\"balanced\", None],\n",
    "    \"classifier__max_depth\": [2, 5, 10]\n",
    "}"
   ]
  },
  {
   "cell_type": "code",
   "execution_count": 18,
   "id": "a22fd939",
   "metadata": {},
   "outputs": [
    {
     "name": "stdout",
     "output_type": "stream",
     "text": [
      "Fitting 5 folds for each of 54 candidates, totalling 270 fits\n",
      "[CV 1/5] END classifier__class_weight=balanced, classifier__max_depth=2, classifier__n_estimators=20, preprocessor__text__max_features=250;, score=0.933 total time=   3.4s\n",
      "[CV 2/5] END classifier__class_weight=balanced, classifier__max_depth=2, classifier__n_estimators=20, preprocessor__text__max_features=250;, score=0.899 total time=   3.5s\n",
      "[CV 3/5] END classifier__class_weight=balanced, classifier__max_depth=2, classifier__n_estimators=20, preprocessor__text__max_features=250;, score=0.937 total time=   3.4s\n",
      "[CV 4/5] END classifier__class_weight=balanced, classifier__max_depth=2, classifier__n_estimators=20, preprocessor__text__max_features=250;, score=0.902 total time=   3.4s\n",
      "[CV 5/5] END classifier__class_weight=balanced, classifier__max_depth=2, classifier__n_estimators=20, preprocessor__text__max_features=250;, score=0.930 total time=   3.4s\n",
      "[CV 1/5] END classifier__class_weight=balanced, classifier__max_depth=2, classifier__n_estimators=20, preprocessor__text__max_features=1000;, score=0.937 total time=   3.4s\n",
      "[CV 2/5] END classifier__class_weight=balanced, classifier__max_depth=2, classifier__n_estimators=20, preprocessor__text__max_features=1000;, score=0.928 total time=   3.4s\n",
      "[CV 3/5] END classifier__class_weight=balanced, classifier__max_depth=2, classifier__n_estimators=20, preprocessor__text__max_features=1000;, score=0.906 total time=   3.4s\n",
      "[CV 4/5] END classifier__class_weight=balanced, classifier__max_depth=2, classifier__n_estimators=20, preprocessor__text__max_features=1000;, score=0.862 total time=   3.4s\n",
      "[CV 5/5] END classifier__class_weight=balanced, classifier__max_depth=2, classifier__n_estimators=20, preprocessor__text__max_features=1000;, score=0.915 total time=   3.4s\n",
      "[CV 1/5] END classifier__class_weight=balanced, classifier__max_depth=2, classifier__n_estimators=20, preprocessor__text__max_features=5000;, score=0.936 total time=   3.4s\n",
      "[CV 2/5] END classifier__class_weight=balanced, classifier__max_depth=2, classifier__n_estimators=20, preprocessor__text__max_features=5000;, score=0.830 total time=   3.4s\n",
      "[CV 3/5] END classifier__class_weight=balanced, classifier__max_depth=2, classifier__n_estimators=20, preprocessor__text__max_features=5000;, score=0.925 total time=   3.4s\n",
      "[CV 4/5] END classifier__class_weight=balanced, classifier__max_depth=2, classifier__n_estimators=20, preprocessor__text__max_features=5000;, score=0.886 total time=   3.3s\n",
      "[CV 5/5] END classifier__class_weight=balanced, classifier__max_depth=2, classifier__n_estimators=20, preprocessor__text__max_features=5000;, score=0.815 total time=   3.3s\n",
      "[CV 1/5] END classifier__class_weight=balanced, classifier__max_depth=2, classifier__n_estimators=50, preprocessor__text__max_features=250;, score=0.937 total time=   3.9s\n",
      "[CV 2/5] END classifier__class_weight=balanced, classifier__max_depth=2, classifier__n_estimators=50, preprocessor__text__max_features=250;, score=0.920 total time=   3.8s\n",
      "[CV 3/5] END classifier__class_weight=balanced, classifier__max_depth=2, classifier__n_estimators=50, preprocessor__text__max_features=250;, score=0.942 total time=   3.9s\n",
      "[CV 4/5] END classifier__class_weight=balanced, classifier__max_depth=2, classifier__n_estimators=50, preprocessor__text__max_features=250;, score=0.930 total time=   3.9s\n",
      "[CV 5/5] END classifier__class_weight=balanced, classifier__max_depth=2, classifier__n_estimators=50, preprocessor__text__max_features=250;, score=0.937 total time=   3.9s\n",
      "[CV 1/5] END classifier__class_weight=balanced, classifier__max_depth=2, classifier__n_estimators=50, preprocessor__text__max_features=1000;, score=0.933 total time=   3.8s\n",
      "[CV 2/5] END classifier__class_weight=balanced, classifier__max_depth=2, classifier__n_estimators=50, preprocessor__text__max_features=1000;, score=0.929 total time=   3.8s\n",
      "[CV 3/5] END classifier__class_weight=balanced, classifier__max_depth=2, classifier__n_estimators=50, preprocessor__text__max_features=1000;, score=0.926 total time=   3.8s\n",
      "[CV 4/5] END classifier__class_weight=balanced, classifier__max_depth=2, classifier__n_estimators=50, preprocessor__text__max_features=1000;, score=0.938 total time=   3.8s\n",
      "[CV 5/5] END classifier__class_weight=balanced, classifier__max_depth=2, classifier__n_estimators=50, preprocessor__text__max_features=1000;, score=0.936 total time=   3.8s\n",
      "[CV 1/5] END classifier__class_weight=balanced, classifier__max_depth=2, classifier__n_estimators=50, preprocessor__text__max_features=5000;, score=0.879 total time=   3.6s\n",
      "[CV 2/5] END classifier__class_weight=balanced, classifier__max_depth=2, classifier__n_estimators=50, preprocessor__text__max_features=5000;, score=0.923 total time=   3.7s\n",
      "[CV 3/5] END classifier__class_weight=balanced, classifier__max_depth=2, classifier__n_estimators=50, preprocessor__text__max_features=5000;, score=0.934 total time=   3.8s\n",
      "[CV 4/5] END classifier__class_weight=balanced, classifier__max_depth=2, classifier__n_estimators=50, preprocessor__text__max_features=5000;, score=0.906 total time=   3.7s\n",
      "[CV 5/5] END classifier__class_weight=balanced, classifier__max_depth=2, classifier__n_estimators=50, preprocessor__text__max_features=5000;, score=0.921 total time=   3.7s\n",
      "[CV 1/5] END classifier__class_weight=balanced, classifier__max_depth=2, classifier__n_estimators=100, preprocessor__text__max_features=250;, score=0.933 total time=   4.8s\n",
      "[CV 2/5] END classifier__class_weight=balanced, classifier__max_depth=2, classifier__n_estimators=100, preprocessor__text__max_features=250;, score=0.940 total time=   4.8s\n",
      "[CV 3/5] END classifier__class_weight=balanced, classifier__max_depth=2, classifier__n_estimators=100, preprocessor__text__max_features=250;, score=0.942 total time=   4.7s\n",
      "[CV 4/5] END classifier__class_weight=balanced, classifier__max_depth=2, classifier__n_estimators=100, preprocessor__text__max_features=250;, score=0.928 total time=   4.7s\n",
      "[CV 5/5] END classifier__class_weight=balanced, classifier__max_depth=2, classifier__n_estimators=100, preprocessor__text__max_features=250;, score=0.925 total time=   4.7s\n",
      "[CV 1/5] END classifier__class_weight=balanced, classifier__max_depth=2, classifier__n_estimators=100, preprocessor__text__max_features=1000;, score=0.905 total time=   4.4s\n",
      "[CV 2/5] END classifier__class_weight=balanced, classifier__max_depth=2, classifier__n_estimators=100, preprocessor__text__max_features=1000;, score=0.939 total time=   4.4s\n",
      "[CV 3/5] END classifier__class_weight=balanced, classifier__max_depth=2, classifier__n_estimators=100, preprocessor__text__max_features=1000;, score=0.938 total time=   4.4s\n",
      "[CV 4/5] END classifier__class_weight=balanced, classifier__max_depth=2, classifier__n_estimators=100, preprocessor__text__max_features=1000;, score=0.938 total time=   4.4s\n",
      "[CV 5/5] END classifier__class_weight=balanced, classifier__max_depth=2, classifier__n_estimators=100, preprocessor__text__max_features=1000;, score=0.931 total time=   4.4s\n",
      "[CV 1/5] END classifier__class_weight=balanced, classifier__max_depth=2, classifier__n_estimators=100, preprocessor__text__max_features=5000;, score=0.925 total time=   4.2s\n",
      "[CV 2/5] END classifier__class_weight=balanced, classifier__max_depth=2, classifier__n_estimators=100, preprocessor__text__max_features=5000;, score=0.919 total time=   4.1s\n",
      "[CV 3/5] END classifier__class_weight=balanced, classifier__max_depth=2, classifier__n_estimators=100, preprocessor__text__max_features=5000;, score=0.932 total time=   4.1s\n",
      "[CV 4/5] END classifier__class_weight=balanced, classifier__max_depth=2, classifier__n_estimators=100, preprocessor__text__max_features=5000;, score=0.927 total time=   4.2s\n",
      "[CV 5/5] END classifier__class_weight=balanced, classifier__max_depth=2, classifier__n_estimators=100, preprocessor__text__max_features=5000;, score=0.917 total time=   4.2s\n",
      "[CV 1/5] END classifier__class_weight=balanced, classifier__max_depth=5, classifier__n_estimators=20, preprocessor__text__max_features=250;, score=0.942 total time=   3.9s\n",
      "[CV 2/5] END classifier__class_weight=balanced, classifier__max_depth=5, classifier__n_estimators=20, preprocessor__text__max_features=250;, score=0.936 total time=   3.8s\n",
      "[CV 3/5] END classifier__class_weight=balanced, classifier__max_depth=5, classifier__n_estimators=20, preprocessor__text__max_features=250;, score=0.948 total time=   3.7s\n"
     ]
    },
    {
     "name": "stdout",
     "output_type": "stream",
     "text": [
      "[CV 4/5] END classifier__class_weight=balanced, classifier__max_depth=5, classifier__n_estimators=20, preprocessor__text__max_features=250;, score=0.944 total time=   3.7s\n",
      "[CV 5/5] END classifier__class_weight=balanced, classifier__max_depth=5, classifier__n_estimators=20, preprocessor__text__max_features=250;, score=0.940 total time=   3.8s\n",
      "[CV 1/5] END classifier__class_weight=balanced, classifier__max_depth=5, classifier__n_estimators=20, preprocessor__text__max_features=1000;, score=0.915 total time=   3.6s\n",
      "[CV 2/5] END classifier__class_weight=balanced, classifier__max_depth=5, classifier__n_estimators=20, preprocessor__text__max_features=1000;, score=0.936 total time=   3.6s\n",
      "[CV 3/5] END classifier__class_weight=balanced, classifier__max_depth=5, classifier__n_estimators=20, preprocessor__text__max_features=1000;, score=0.930 total time=   3.6s\n",
      "[CV 4/5] END classifier__class_weight=balanced, classifier__max_depth=5, classifier__n_estimators=20, preprocessor__text__max_features=1000;, score=0.932 total time=   3.6s\n",
      "[CV 5/5] END classifier__class_weight=balanced, classifier__max_depth=5, classifier__n_estimators=20, preprocessor__text__max_features=1000;, score=0.942 total time=   3.6s\n",
      "[CV 1/5] END classifier__class_weight=balanced, classifier__max_depth=5, classifier__n_estimators=20, preprocessor__text__max_features=5000;, score=0.936 total time=   3.4s\n",
      "[CV 2/5] END classifier__class_weight=balanced, classifier__max_depth=5, classifier__n_estimators=20, preprocessor__text__max_features=5000;, score=0.929 total time=   3.5s\n",
      "[CV 3/5] END classifier__class_weight=balanced, classifier__max_depth=5, classifier__n_estimators=20, preprocessor__text__max_features=5000;, score=0.930 total time=   3.5s\n",
      "[CV 4/5] END classifier__class_weight=balanced, classifier__max_depth=5, classifier__n_estimators=20, preprocessor__text__max_features=5000;, score=0.931 total time=   3.4s\n",
      "[CV 5/5] END classifier__class_weight=balanced, classifier__max_depth=5, classifier__n_estimators=20, preprocessor__text__max_features=5000;, score=0.935 total time=   3.4s\n",
      "[CV 1/5] END classifier__class_weight=balanced, classifier__max_depth=5, classifier__n_estimators=50, preprocessor__text__max_features=250;, score=0.944 total time=   4.9s\n",
      "[CV 2/5] END classifier__class_weight=balanced, classifier__max_depth=5, classifier__n_estimators=50, preprocessor__text__max_features=250;, score=0.944 total time=   4.9s\n",
      "[CV 3/5] END classifier__class_weight=balanced, classifier__max_depth=5, classifier__n_estimators=50, preprocessor__text__max_features=250;, score=0.947 total time=   4.9s\n",
      "[CV 4/5] END classifier__class_weight=balanced, classifier__max_depth=5, classifier__n_estimators=50, preprocessor__text__max_features=250;, score=0.946 total time=   4.8s\n",
      "[CV 5/5] END classifier__class_weight=balanced, classifier__max_depth=5, classifier__n_estimators=50, preprocessor__text__max_features=250;, score=0.941 total time=   4.8s\n",
      "[CV 1/5] END classifier__class_weight=balanced, classifier__max_depth=5, classifier__n_estimators=50, preprocessor__text__max_features=1000;, score=0.949 total time=   4.4s\n",
      "[CV 2/5] END classifier__class_weight=balanced, classifier__max_depth=5, classifier__n_estimators=50, preprocessor__text__max_features=1000;, score=0.944 total time=   4.4s\n",
      "[CV 3/5] END classifier__class_weight=balanced, classifier__max_depth=5, classifier__n_estimators=50, preprocessor__text__max_features=1000;, score=0.941 total time=   4.4s\n",
      "[CV 4/5] END classifier__class_weight=balanced, classifier__max_depth=5, classifier__n_estimators=50, preprocessor__text__max_features=1000;, score=0.941 total time=   4.4s\n",
      "[CV 5/5] END classifier__class_weight=balanced, classifier__max_depth=5, classifier__n_estimators=50, preprocessor__text__max_features=1000;, score=0.943 total time=   4.4s\n",
      "[CV 1/5] END classifier__class_weight=balanced, classifier__max_depth=5, classifier__n_estimators=50, preprocessor__text__max_features=5000;, score=0.938 total time=   3.9s\n",
      "[CV 2/5] END classifier__class_weight=balanced, classifier__max_depth=5, classifier__n_estimators=50, preprocessor__text__max_features=5000;, score=0.940 total time=   3.9s\n",
      "[CV 3/5] END classifier__class_weight=balanced, classifier__max_depth=5, classifier__n_estimators=50, preprocessor__text__max_features=5000;, score=0.920 total time=   3.9s\n",
      "[CV 4/5] END classifier__class_weight=balanced, classifier__max_depth=5, classifier__n_estimators=50, preprocessor__text__max_features=5000;, score=0.938 total time=   3.9s\n",
      "[CV 5/5] END classifier__class_weight=balanced, classifier__max_depth=5, classifier__n_estimators=50, preprocessor__text__max_features=5000;, score=0.943 total time=   3.9s\n",
      "[CV 1/5] END classifier__class_weight=balanced, classifier__max_depth=5, classifier__n_estimators=100, preprocessor__text__max_features=250;, score=0.945 total time=   6.8s\n",
      "[CV 2/5] END classifier__class_weight=balanced, classifier__max_depth=5, classifier__n_estimators=100, preprocessor__text__max_features=250;, score=0.946 total time=   6.7s\n",
      "[CV 3/5] END classifier__class_weight=balanced, classifier__max_depth=5, classifier__n_estimators=100, preprocessor__text__max_features=250;, score=0.948 total time=   6.7s\n",
      "[CV 4/5] END classifier__class_weight=balanced, classifier__max_depth=5, classifier__n_estimators=100, preprocessor__text__max_features=250;, score=0.945 total time=   6.7s\n",
      "[CV 5/5] END classifier__class_weight=balanced, classifier__max_depth=5, classifier__n_estimators=100, preprocessor__text__max_features=250;, score=0.942 total time=   6.7s\n",
      "[CV 1/5] END classifier__class_weight=balanced, classifier__max_depth=5, classifier__n_estimators=100, preprocessor__text__max_features=1000;, score=0.944 total time=   5.7s\n",
      "[CV 2/5] END classifier__class_weight=balanced, classifier__max_depth=5, classifier__n_estimators=100, preprocessor__text__max_features=1000;, score=0.946 total time=   5.9s\n",
      "[CV 3/5] END classifier__class_weight=balanced, classifier__max_depth=5, classifier__n_estimators=100, preprocessor__text__max_features=1000;, score=0.946 total time=   5.8s\n",
      "[CV 4/5] END classifier__class_weight=balanced, classifier__max_depth=5, classifier__n_estimators=100, preprocessor__text__max_features=1000;, score=0.947 total time=   5.8s\n",
      "[CV 5/5] END classifier__class_weight=balanced, classifier__max_depth=5, classifier__n_estimators=100, preprocessor__text__max_features=1000;, score=0.944 total time=   5.8s\n",
      "[CV 1/5] END classifier__class_weight=balanced, classifier__max_depth=5, classifier__n_estimators=100, preprocessor__text__max_features=5000;, score=0.936 total time=   4.8s\n",
      "[CV 2/5] END classifier__class_weight=balanced, classifier__max_depth=5, classifier__n_estimators=100, preprocessor__text__max_features=5000;, score=0.939 total time=   4.8s\n",
      "[CV 3/5] END classifier__class_weight=balanced, classifier__max_depth=5, classifier__n_estimators=100, preprocessor__text__max_features=5000;, score=0.946 total time=   4.8s\n",
      "[CV 4/5] END classifier__class_weight=balanced, classifier__max_depth=5, classifier__n_estimators=100, preprocessor__text__max_features=5000;, score=0.940 total time=   4.8s\n",
      "[CV 5/5] END classifier__class_weight=balanced, classifier__max_depth=5, classifier__n_estimators=100, preprocessor__text__max_features=5000;, score=0.941 total time=   4.8s\n",
      "[CV 1/5] END classifier__class_weight=balanced, classifier__max_depth=10, classifier__n_estimators=20, preprocessor__text__max_features=250;, score=0.949 total time=   5.1s\n",
      "[CV 2/5] END classifier__class_weight=balanced, classifier__max_depth=10, classifier__n_estimators=20, preprocessor__text__max_features=250;, score=0.950 total time=   5.0s\n",
      "[CV 3/5] END classifier__class_weight=balanced, classifier__max_depth=10, classifier__n_estimators=20, preprocessor__text__max_features=250;, score=0.950 total time=   5.0s\n",
      "[CV 4/5] END classifier__class_weight=balanced, classifier__max_depth=10, classifier__n_estimators=20, preprocessor__text__max_features=250;, score=0.951 total time=   5.0s\n",
      "[CV 5/5] END classifier__class_weight=balanced, classifier__max_depth=10, classifier__n_estimators=20, preprocessor__text__max_features=250;, score=0.948 total time=   5.1s\n",
      "[CV 1/5] END classifier__class_weight=balanced, classifier__max_depth=10, classifier__n_estimators=20, preprocessor__text__max_features=1000;, score=0.952 total time=   4.4s\n"
     ]
    },
    {
     "name": "stdout",
     "output_type": "stream",
     "text": [
      "[CV 2/5] END classifier__class_weight=balanced, classifier__max_depth=10, classifier__n_estimators=20, preprocessor__text__max_features=1000;, score=0.950 total time=   4.4s\n",
      "[CV 3/5] END classifier__class_weight=balanced, classifier__max_depth=10, classifier__n_estimators=20, preprocessor__text__max_features=1000;, score=0.954 total time=   4.4s\n",
      "[CV 4/5] END classifier__class_weight=balanced, classifier__max_depth=10, classifier__n_estimators=20, preprocessor__text__max_features=1000;, score=0.952 total time=   4.4s\n",
      "[CV 5/5] END classifier__class_weight=balanced, classifier__max_depth=10, classifier__n_estimators=20, preprocessor__text__max_features=1000;, score=0.948 total time=   4.4s\n",
      "[CV 1/5] END classifier__class_weight=balanced, classifier__max_depth=10, classifier__n_estimators=20, preprocessor__text__max_features=5000;, score=0.946 total time=   3.9s\n",
      "[CV 2/5] END classifier__class_weight=balanced, classifier__max_depth=10, classifier__n_estimators=20, preprocessor__text__max_features=5000;, score=0.940 total time=   3.9s\n",
      "[CV 3/5] END classifier__class_weight=balanced, classifier__max_depth=10, classifier__n_estimators=20, preprocessor__text__max_features=5000;, score=0.938 total time=   3.8s\n",
      "[CV 4/5] END classifier__class_weight=balanced, classifier__max_depth=10, classifier__n_estimators=20, preprocessor__text__max_features=5000;, score=0.933 total time=   3.8s\n",
      "[CV 5/5] END classifier__class_weight=balanced, classifier__max_depth=10, classifier__n_estimators=20, preprocessor__text__max_features=5000;, score=0.937 total time=   3.8s\n",
      "[CV 1/5] END classifier__class_weight=balanced, classifier__max_depth=10, classifier__n_estimators=50, preprocessor__text__max_features=250;, score=0.950 total time=   8.1s\n",
      "[CV 2/5] END classifier__class_weight=balanced, classifier__max_depth=10, classifier__n_estimators=50, preprocessor__text__max_features=250;, score=0.949 total time=   8.0s\n",
      "[CV 3/5] END classifier__class_weight=balanced, classifier__max_depth=10, classifier__n_estimators=50, preprocessor__text__max_features=250;, score=0.952 total time=   8.1s\n",
      "[CV 4/5] END classifier__class_weight=balanced, classifier__max_depth=10, classifier__n_estimators=50, preprocessor__text__max_features=250;, score=0.954 total time=   8.1s\n",
      "[CV 5/5] END classifier__class_weight=balanced, classifier__max_depth=10, classifier__n_estimators=50, preprocessor__text__max_features=250;, score=0.947 total time=   8.0s\n",
      "[CV 1/5] END classifier__class_weight=balanced, classifier__max_depth=10, classifier__n_estimators=50, preprocessor__text__max_features=1000;, score=0.950 total time=   6.4s\n",
      "[CV 2/5] END classifier__class_weight=balanced, classifier__max_depth=10, classifier__n_estimators=50, preprocessor__text__max_features=1000;, score=0.951 total time=   6.4s\n",
      "[CV 3/5] END classifier__class_weight=balanced, classifier__max_depth=10, classifier__n_estimators=50, preprocessor__text__max_features=1000;, score=0.953 total time=   6.4s\n",
      "[CV 4/5] END classifier__class_weight=balanced, classifier__max_depth=10, classifier__n_estimators=50, preprocessor__text__max_features=1000;, score=0.952 total time=   6.4s\n",
      "[CV 5/5] END classifier__class_weight=balanced, classifier__max_depth=10, classifier__n_estimators=50, preprocessor__text__max_features=1000;, score=0.950 total time=   6.4s\n",
      "[CV 1/5] END classifier__class_weight=balanced, classifier__max_depth=10, classifier__n_estimators=50, preprocessor__text__max_features=5000;, score=0.946 total time=   4.9s\n",
      "[CV 2/5] END classifier__class_weight=balanced, classifier__max_depth=10, classifier__n_estimators=50, preprocessor__text__max_features=5000;, score=0.947 total time=   4.9s\n",
      "[CV 3/5] END classifier__class_weight=balanced, classifier__max_depth=10, classifier__n_estimators=50, preprocessor__text__max_features=5000;, score=0.953 total time=   4.9s\n",
      "[CV 4/5] END classifier__class_weight=balanced, classifier__max_depth=10, classifier__n_estimators=50, preprocessor__text__max_features=5000;, score=0.942 total time=   4.9s\n",
      "[CV 5/5] END classifier__class_weight=balanced, classifier__max_depth=10, classifier__n_estimators=50, preprocessor__text__max_features=5000;, score=0.945 total time=   4.9s\n",
      "[CV 1/5] END classifier__class_weight=balanced, classifier__max_depth=10, classifier__n_estimators=100, preprocessor__text__max_features=250;, score=0.947 total time=  13.1s\n",
      "[CV 2/5] END classifier__class_weight=balanced, classifier__max_depth=10, classifier__n_estimators=100, preprocessor__text__max_features=250;, score=0.948 total time=  13.1s\n",
      "[CV 3/5] END classifier__class_weight=balanced, classifier__max_depth=10, classifier__n_estimators=100, preprocessor__text__max_features=250;, score=0.952 total time=  13.2s\n",
      "[CV 4/5] END classifier__class_weight=balanced, classifier__max_depth=10, classifier__n_estimators=100, preprocessor__text__max_features=250;, score=0.952 total time=  12.9s\n",
      "[CV 5/5] END classifier__class_weight=balanced, classifier__max_depth=10, classifier__n_estimators=100, preprocessor__text__max_features=250;, score=0.948 total time=  13.0s\n",
      "[CV 1/5] END classifier__class_weight=balanced, classifier__max_depth=10, classifier__n_estimators=100, preprocessor__text__max_features=1000;, score=0.951 total time=   9.6s\n",
      "[CV 2/5] END classifier__class_weight=balanced, classifier__max_depth=10, classifier__n_estimators=100, preprocessor__text__max_features=1000;, score=0.951 total time=   9.8s\n",
      "[CV 3/5] END classifier__class_weight=balanced, classifier__max_depth=10, classifier__n_estimators=100, preprocessor__text__max_features=1000;, score=0.954 total time=   9.8s\n",
      "[CV 4/5] END classifier__class_weight=balanced, classifier__max_depth=10, classifier__n_estimators=100, preprocessor__text__max_features=1000;, score=0.953 total time=   9.8s\n",
      "[CV 5/5] END classifier__class_weight=balanced, classifier__max_depth=10, classifier__n_estimators=100, preprocessor__text__max_features=1000;, score=0.950 total time=   9.9s\n",
      "[CV 1/5] END classifier__class_weight=balanced, classifier__max_depth=10, classifier__n_estimators=100, preprocessor__text__max_features=5000;, score=0.947 total time=   6.8s\n",
      "[CV 2/5] END classifier__class_weight=balanced, classifier__max_depth=10, classifier__n_estimators=100, preprocessor__text__max_features=5000;, score=0.950 total time=   6.8s\n",
      "[CV 3/5] END classifier__class_weight=balanced, classifier__max_depth=10, classifier__n_estimators=100, preprocessor__text__max_features=5000;, score=0.956 total time=   6.8s\n",
      "[CV 4/5] END classifier__class_weight=balanced, classifier__max_depth=10, classifier__n_estimators=100, preprocessor__text__max_features=5000;, score=0.950 total time=   6.8s\n",
      "[CV 5/5] END classifier__class_weight=balanced, classifier__max_depth=10, classifier__n_estimators=100, preprocessor__text__max_features=5000;, score=0.947 total time=   6.8s\n",
      "[CV 1/5] END classifier__class_weight=None, classifier__max_depth=2, classifier__n_estimators=20, preprocessor__text__max_features=250;, score=0.878 total time=   3.3s\n",
      "[CV 2/5] END classifier__class_weight=None, classifier__max_depth=2, classifier__n_estimators=20, preprocessor__text__max_features=250;, score=0.870 total time=   3.2s\n",
      "[CV 3/5] END classifier__class_weight=None, classifier__max_depth=2, classifier__n_estimators=20, preprocessor__text__max_features=250;, score=0.878 total time=   3.2s\n",
      "[CV 4/5] END classifier__class_weight=None, classifier__max_depth=2, classifier__n_estimators=20, preprocessor__text__max_features=250;, score=0.894 total time=   3.2s\n",
      "[CV 5/5] END classifier__class_weight=None, classifier__max_depth=2, classifier__n_estimators=20, preprocessor__text__max_features=250;, score=0.881 total time=   3.2s\n",
      "[CV 1/5] END classifier__class_weight=None, classifier__max_depth=2, classifier__n_estimators=20, preprocessor__text__max_features=1000;, score=0.839 total time=   3.2s\n",
      "[CV 2/5] END classifier__class_weight=None, classifier__max_depth=2, classifier__n_estimators=20, preprocessor__text__max_features=1000;, score=0.839 total time=   3.2s\n",
      "[CV 3/5] END classifier__class_weight=None, classifier__max_depth=2, classifier__n_estimators=20, preprocessor__text__max_features=1000;, score=0.833 total time=   3.2s\n",
      "[CV 4/5] END classifier__class_weight=None, classifier__max_depth=2, classifier__n_estimators=20, preprocessor__text__max_features=1000;, score=0.835 total time=   3.2s\n"
     ]
    },
    {
     "name": "stdout",
     "output_type": "stream",
     "text": [
      "[CV 5/5] END classifier__class_weight=None, classifier__max_depth=2, classifier__n_estimators=20, preprocessor__text__max_features=1000;, score=0.832 total time=   3.2s\n",
      "[CV 1/5] END classifier__class_weight=None, classifier__max_depth=2, classifier__n_estimators=20, preprocessor__text__max_features=5000;, score=0.832 total time=   3.1s\n",
      "[CV 2/5] END classifier__class_weight=None, classifier__max_depth=2, classifier__n_estimators=20, preprocessor__text__max_features=5000;, score=0.832 total time=   3.1s\n",
      "[CV 3/5] END classifier__class_weight=None, classifier__max_depth=2, classifier__n_estimators=20, preprocessor__text__max_features=5000;, score=0.832 total time=   3.1s\n",
      "[CV 4/5] END classifier__class_weight=None, classifier__max_depth=2, classifier__n_estimators=20, preprocessor__text__max_features=5000;, score=0.832 total time=   3.2s\n",
      "[CV 5/5] END classifier__class_weight=None, classifier__max_depth=2, classifier__n_estimators=20, preprocessor__text__max_features=5000;, score=0.832 total time=   3.1s\n",
      "[CV 1/5] END classifier__class_weight=None, classifier__max_depth=2, classifier__n_estimators=50, preprocessor__text__max_features=250;, score=0.875 total time=   3.7s\n",
      "[CV 2/5] END classifier__class_weight=None, classifier__max_depth=2, classifier__n_estimators=50, preprocessor__text__max_features=250;, score=0.861 total time=   3.7s\n",
      "[CV 3/5] END classifier__class_weight=None, classifier__max_depth=2, classifier__n_estimators=50, preprocessor__text__max_features=250;, score=0.885 total time=   3.7s\n",
      "[CV 4/5] END classifier__class_weight=None, classifier__max_depth=2, classifier__n_estimators=50, preprocessor__text__max_features=250;, score=0.879 total time=   3.6s\n",
      "[CV 5/5] END classifier__class_weight=None, classifier__max_depth=2, classifier__n_estimators=50, preprocessor__text__max_features=250;, score=0.888 total time=   3.6s\n",
      "[CV 1/5] END classifier__class_weight=None, classifier__max_depth=2, classifier__n_estimators=50, preprocessor__text__max_features=1000;, score=0.832 total time=   3.6s\n",
      "[CV 2/5] END classifier__class_weight=None, classifier__max_depth=2, classifier__n_estimators=50, preprocessor__text__max_features=1000;, score=0.838 total time=   3.6s\n",
      "[CV 3/5] END classifier__class_weight=None, classifier__max_depth=2, classifier__n_estimators=50, preprocessor__text__max_features=1000;, score=0.838 total time=   3.6s\n",
      "[CV 4/5] END classifier__class_weight=None, classifier__max_depth=2, classifier__n_estimators=50, preprocessor__text__max_features=1000;, score=0.833 total time=   3.6s\n",
      "[CV 5/5] END classifier__class_weight=None, classifier__max_depth=2, classifier__n_estimators=50, preprocessor__text__max_features=1000;, score=0.832 total time=   3.6s\n",
      "[CV 1/5] END classifier__class_weight=None, classifier__max_depth=2, classifier__n_estimators=50, preprocessor__text__max_features=5000;, score=0.832 total time=   3.5s\n",
      "[CV 2/5] END classifier__class_weight=None, classifier__max_depth=2, classifier__n_estimators=50, preprocessor__text__max_features=5000;, score=0.832 total time=   3.4s\n",
      "[CV 3/5] END classifier__class_weight=None, classifier__max_depth=2, classifier__n_estimators=50, preprocessor__text__max_features=5000;, score=0.832 total time=   3.4s\n",
      "[CV 4/5] END classifier__class_weight=None, classifier__max_depth=2, classifier__n_estimators=50, preprocessor__text__max_features=5000;, score=0.832 total time=   3.4s\n",
      "[CV 5/5] END classifier__class_weight=None, classifier__max_depth=2, classifier__n_estimators=50, preprocessor__text__max_features=5000;, score=0.832 total time=   3.4s\n",
      "[CV 1/5] END classifier__class_weight=None, classifier__max_depth=2, classifier__n_estimators=100, preprocessor__text__max_features=250;, score=0.882 total time=   4.5s\n",
      "[CV 2/5] END classifier__class_weight=None, classifier__max_depth=2, classifier__n_estimators=100, preprocessor__text__max_features=250;, score=0.871 total time=   4.5s\n",
      "[CV 3/5] END classifier__class_weight=None, classifier__max_depth=2, classifier__n_estimators=100, preprocessor__text__max_features=250;, score=0.874 total time=   4.5s\n",
      "[CV 4/5] END classifier__class_weight=None, classifier__max_depth=2, classifier__n_estimators=100, preprocessor__text__max_features=250;, score=0.860 total time=   4.5s\n",
      "[CV 5/5] END classifier__class_weight=None, classifier__max_depth=2, classifier__n_estimators=100, preprocessor__text__max_features=250;, score=0.888 total time=   4.5s\n",
      "[CV 1/5] END classifier__class_weight=None, classifier__max_depth=2, classifier__n_estimators=100, preprocessor__text__max_features=1000;, score=0.838 total time=   4.2s\n",
      "[CV 2/5] END classifier__class_weight=None, classifier__max_depth=2, classifier__n_estimators=100, preprocessor__text__max_features=1000;, score=0.832 total time=   4.2s\n",
      "[CV 3/5] END classifier__class_weight=None, classifier__max_depth=2, classifier__n_estimators=100, preprocessor__text__max_features=1000;, score=0.837 total time=   4.3s\n",
      "[CV 4/5] END classifier__class_weight=None, classifier__max_depth=2, classifier__n_estimators=100, preprocessor__text__max_features=1000;, score=0.835 total time=   4.2s\n",
      "[CV 5/5] END classifier__class_weight=None, classifier__max_depth=2, classifier__n_estimators=100, preprocessor__text__max_features=1000;, score=0.832 total time=   4.2s\n",
      "[CV 1/5] END classifier__class_weight=None, classifier__max_depth=2, classifier__n_estimators=100, preprocessor__text__max_features=5000;, score=0.832 total time=   3.9s\n",
      "[CV 2/5] END classifier__class_weight=None, classifier__max_depth=2, classifier__n_estimators=100, preprocessor__text__max_features=5000;, score=0.832 total time=   3.9s\n",
      "[CV 3/5] END classifier__class_weight=None, classifier__max_depth=2, classifier__n_estimators=100, preprocessor__text__max_features=5000;, score=0.832 total time=   3.9s\n",
      "[CV 4/5] END classifier__class_weight=None, classifier__max_depth=2, classifier__n_estimators=100, preprocessor__text__max_features=5000;, score=0.832 total time=   3.9s\n",
      "[CV 5/5] END classifier__class_weight=None, classifier__max_depth=2, classifier__n_estimators=100, preprocessor__text__max_features=5000;, score=0.832 total time=   3.9s\n",
      "[CV 1/5] END classifier__class_weight=None, classifier__max_depth=5, classifier__n_estimators=20, preprocessor__text__max_features=250;, score=0.954 total time=   3.6s\n",
      "[CV 2/5] END classifier__class_weight=None, classifier__max_depth=5, classifier__n_estimators=20, preprocessor__text__max_features=250;, score=0.953 total time=   3.6s\n",
      "[CV 3/5] END classifier__class_weight=None, classifier__max_depth=5, classifier__n_estimators=20, preprocessor__text__max_features=250;, score=0.923 total time=   3.6s\n",
      "[CV 4/5] END classifier__class_weight=None, classifier__max_depth=5, classifier__n_estimators=20, preprocessor__text__max_features=250;, score=0.953 total time=   3.6s\n",
      "[CV 5/5] END classifier__class_weight=None, classifier__max_depth=5, classifier__n_estimators=20, preprocessor__text__max_features=250;, score=0.947 total time=   3.6s\n",
      "[CV 1/5] END classifier__class_weight=None, classifier__max_depth=5, classifier__n_estimators=20, preprocessor__text__max_features=1000;, score=0.907 total time=   3.5s\n",
      "[CV 2/5] END classifier__class_weight=None, classifier__max_depth=5, classifier__n_estimators=20, preprocessor__text__max_features=1000;, score=0.902 total time=   3.4s\n",
      "[CV 3/5] END classifier__class_weight=None, classifier__max_depth=5, classifier__n_estimators=20, preprocessor__text__max_features=1000;, score=0.904 total time=   3.4s\n",
      "[CV 4/5] END classifier__class_weight=None, classifier__max_depth=5, classifier__n_estimators=20, preprocessor__text__max_features=1000;, score=0.915 total time=   3.5s\n",
      "[CV 5/5] END classifier__class_weight=None, classifier__max_depth=5, classifier__n_estimators=20, preprocessor__text__max_features=1000;, score=0.941 total time=   3.5s\n",
      "[CV 1/5] END classifier__class_weight=None, classifier__max_depth=5, classifier__n_estimators=20, preprocessor__text__max_features=5000;, score=0.878 total time=   3.3s\n",
      "[CV 2/5] END classifier__class_weight=None, classifier__max_depth=5, classifier__n_estimators=20, preprocessor__text__max_features=5000;, score=0.847 total time=   3.3s\n",
      "[CV 3/5] END classifier__class_weight=None, classifier__max_depth=5, classifier__n_estimators=20, preprocessor__text__max_features=5000;, score=0.856 total time=   3.3s\n"
     ]
    },
    {
     "name": "stdout",
     "output_type": "stream",
     "text": [
      "[CV 4/5] END classifier__class_weight=None, classifier__max_depth=5, classifier__n_estimators=20, preprocessor__text__max_features=5000;, score=0.877 total time=   3.3s\n",
      "[CV 5/5] END classifier__class_weight=None, classifier__max_depth=5, classifier__n_estimators=20, preprocessor__text__max_features=5000;, score=0.858 total time=   3.3s\n",
      "[CV 1/5] END classifier__class_weight=None, classifier__max_depth=5, classifier__n_estimators=50, preprocessor__text__max_features=250;, score=0.956 total time=   4.8s\n",
      "[CV 2/5] END classifier__class_weight=None, classifier__max_depth=5, classifier__n_estimators=50, preprocessor__text__max_features=250;, score=0.951 total time=   4.7s\n",
      "[CV 3/5] END classifier__class_weight=None, classifier__max_depth=5, classifier__n_estimators=50, preprocessor__text__max_features=250;, score=0.940 total time=   4.7s\n",
      "[CV 4/5] END classifier__class_weight=None, classifier__max_depth=5, classifier__n_estimators=50, preprocessor__text__max_features=250;, score=0.943 total time=   4.7s\n",
      "[CV 5/5] END classifier__class_weight=None, classifier__max_depth=5, classifier__n_estimators=50, preprocessor__text__max_features=250;, score=0.955 total time=   4.8s\n",
      "[CV 1/5] END classifier__class_weight=None, classifier__max_depth=5, classifier__n_estimators=50, preprocessor__text__max_features=1000;, score=0.923 total time=   4.3s\n",
      "[CV 2/5] END classifier__class_weight=None, classifier__max_depth=5, classifier__n_estimators=50, preprocessor__text__max_features=1000;, score=0.915 total time=   4.3s\n",
      "[CV 3/5] END classifier__class_weight=None, classifier__max_depth=5, classifier__n_estimators=50, preprocessor__text__max_features=1000;, score=0.908 total time=   4.3s\n",
      "[CV 4/5] END classifier__class_weight=None, classifier__max_depth=5, classifier__n_estimators=50, preprocessor__text__max_features=1000;, score=0.915 total time=   4.3s\n",
      "[CV 5/5] END classifier__class_weight=None, classifier__max_depth=5, classifier__n_estimators=50, preprocessor__text__max_features=1000;, score=0.921 total time=   4.2s\n",
      "[CV 1/5] END classifier__class_weight=None, classifier__max_depth=5, classifier__n_estimators=50, preprocessor__text__max_features=5000;, score=0.865 total time=   3.8s\n",
      "[CV 2/5] END classifier__class_weight=None, classifier__max_depth=5, classifier__n_estimators=50, preprocessor__text__max_features=5000;, score=0.875 total time=   3.9s\n",
      "[CV 3/5] END classifier__class_weight=None, classifier__max_depth=5, classifier__n_estimators=50, preprocessor__text__max_features=5000;, score=0.865 total time=   3.8s\n",
      "[CV 4/5] END classifier__class_weight=None, classifier__max_depth=5, classifier__n_estimators=50, preprocessor__text__max_features=5000;, score=0.862 total time=   3.8s\n",
      "[CV 5/5] END classifier__class_weight=None, classifier__max_depth=5, classifier__n_estimators=50, preprocessor__text__max_features=5000;, score=0.865 total time=   3.8s\n",
      "[CV 1/5] END classifier__class_weight=None, classifier__max_depth=5, classifier__n_estimators=100, preprocessor__text__max_features=250;, score=0.956 total time=   6.6s\n",
      "[CV 2/5] END classifier__class_weight=None, classifier__max_depth=5, classifier__n_estimators=100, preprocessor__text__max_features=250;, score=0.954 total time=   6.6s\n",
      "[CV 3/5] END classifier__class_weight=None, classifier__max_depth=5, classifier__n_estimators=100, preprocessor__text__max_features=250;, score=0.948 total time=   6.5s\n",
      "[CV 4/5] END classifier__class_weight=None, classifier__max_depth=5, classifier__n_estimators=100, preprocessor__text__max_features=250;, score=0.954 total time=   6.6s\n",
      "[CV 5/5] END classifier__class_weight=None, classifier__max_depth=5, classifier__n_estimators=100, preprocessor__text__max_features=250;, score=0.956 total time=   6.6s\n",
      "[CV 1/5] END classifier__class_weight=None, classifier__max_depth=5, classifier__n_estimators=100, preprocessor__text__max_features=1000;, score=0.914 total time=   5.6s\n",
      "[CV 2/5] END classifier__class_weight=None, classifier__max_depth=5, classifier__n_estimators=100, preprocessor__text__max_features=1000;, score=0.910 total time=   5.6s\n",
      "[CV 3/5] END classifier__class_weight=None, classifier__max_depth=5, classifier__n_estimators=100, preprocessor__text__max_features=1000;, score=0.906 total time=   5.6s\n",
      "[CV 4/5] END classifier__class_weight=None, classifier__max_depth=5, classifier__n_estimators=100, preprocessor__text__max_features=1000;, score=0.917 total time=   5.6s\n",
      "[CV 5/5] END classifier__class_weight=None, classifier__max_depth=5, classifier__n_estimators=100, preprocessor__text__max_features=1000;, score=0.921 total time=   5.6s\n",
      "[CV 1/5] END classifier__class_weight=None, classifier__max_depth=5, classifier__n_estimators=100, preprocessor__text__max_features=5000;, score=0.865 total time=   4.6s\n",
      "[CV 2/5] END classifier__class_weight=None, classifier__max_depth=5, classifier__n_estimators=100, preprocessor__text__max_features=5000;, score=0.851 total time=   4.7s\n",
      "[CV 3/5] END classifier__class_weight=None, classifier__max_depth=5, classifier__n_estimators=100, preprocessor__text__max_features=5000;, score=0.859 total time=   4.7s\n",
      "[CV 4/5] END classifier__class_weight=None, classifier__max_depth=5, classifier__n_estimators=100, preprocessor__text__max_features=5000;, score=0.876 total time=   4.7s\n",
      "[CV 5/5] END classifier__class_weight=None, classifier__max_depth=5, classifier__n_estimators=100, preprocessor__text__max_features=5000;, score=0.864 total time=   4.7s\n",
      "[CV 1/5] END classifier__class_weight=None, classifier__max_depth=10, classifier__n_estimators=20, preprocessor__text__max_features=250;, score=0.959 total time=   4.7s\n",
      "[CV 2/5] END classifier__class_weight=None, classifier__max_depth=10, classifier__n_estimators=20, preprocessor__text__max_features=250;, score=0.959 total time=   4.7s\n",
      "[CV 3/5] END classifier__class_weight=None, classifier__max_depth=10, classifier__n_estimators=20, preprocessor__text__max_features=250;, score=0.960 total time=   4.8s\n",
      "[CV 4/5] END classifier__class_weight=None, classifier__max_depth=10, classifier__n_estimators=20, preprocessor__text__max_features=250;, score=0.959 total time=   4.8s\n",
      "[CV 5/5] END classifier__class_weight=None, classifier__max_depth=10, classifier__n_estimators=20, preprocessor__text__max_features=250;, score=0.958 total time=   4.7s\n",
      "[CV 1/5] END classifier__class_weight=None, classifier__max_depth=10, classifier__n_estimators=20, preprocessor__text__max_features=1000;, score=0.957 total time=   4.2s\n",
      "[CV 2/5] END classifier__class_weight=None, classifier__max_depth=10, classifier__n_estimators=20, preprocessor__text__max_features=1000;, score=0.957 total time=   4.2s\n",
      "[CV 3/5] END classifier__class_weight=None, classifier__max_depth=10, classifier__n_estimators=20, preprocessor__text__max_features=1000;, score=0.960 total time=   4.3s\n",
      "[CV 4/5] END classifier__class_weight=None, classifier__max_depth=10, classifier__n_estimators=20, preprocessor__text__max_features=1000;, score=0.954 total time=   4.2s\n",
      "[CV 5/5] END classifier__class_weight=None, classifier__max_depth=10, classifier__n_estimators=20, preprocessor__text__max_features=1000;, score=0.959 total time=   4.2s\n",
      "[CV 1/5] END classifier__class_weight=None, classifier__max_depth=10, classifier__n_estimators=20, preprocessor__text__max_features=5000;, score=0.919 total time=   3.7s\n",
      "[CV 2/5] END classifier__class_weight=None, classifier__max_depth=10, classifier__n_estimators=20, preprocessor__text__max_features=5000;, score=0.929 total time=   3.7s\n",
      "[CV 3/5] END classifier__class_weight=None, classifier__max_depth=10, classifier__n_estimators=20, preprocessor__text__max_features=5000;, score=0.916 total time=   3.7s\n",
      "[CV 4/5] END classifier__class_weight=None, classifier__max_depth=10, classifier__n_estimators=20, preprocessor__text__max_features=5000;, score=0.925 total time=   3.7s\n",
      "[CV 5/5] END classifier__class_weight=None, classifier__max_depth=10, classifier__n_estimators=20, preprocessor__text__max_features=5000;, score=0.933 total time=   3.7s\n",
      "[CV 1/5] END classifier__class_weight=None, classifier__max_depth=10, classifier__n_estimators=50, preprocessor__text__max_features=250;, score=0.960 total time=   7.6s\n",
      "[CV 2/5] END classifier__class_weight=None, classifier__max_depth=10, classifier__n_estimators=50, preprocessor__text__max_features=250;, score=0.959 total time=   7.6s\n"
     ]
    },
    {
     "name": "stdout",
     "output_type": "stream",
     "text": [
      "[CV 3/5] END classifier__class_weight=None, classifier__max_depth=10, classifier__n_estimators=50, preprocessor__text__max_features=250;, score=0.959 total time=   7.6s\n",
      "[CV 4/5] END classifier__class_weight=None, classifier__max_depth=10, classifier__n_estimators=50, preprocessor__text__max_features=250;, score=0.959 total time=   7.6s\n",
      "[CV 5/5] END classifier__class_weight=None, classifier__max_depth=10, classifier__n_estimators=50, preprocessor__text__max_features=250;, score=0.959 total time=   7.5s\n",
      "[CV 1/5] END classifier__class_weight=None, classifier__max_depth=10, classifier__n_estimators=50, preprocessor__text__max_features=1000;, score=0.957 total time=   6.1s\n",
      "[CV 2/5] END classifier__class_weight=None, classifier__max_depth=10, classifier__n_estimators=50, preprocessor__text__max_features=1000;, score=0.955 total time=   6.1s\n",
      "[CV 3/5] END classifier__class_weight=None, classifier__max_depth=10, classifier__n_estimators=50, preprocessor__text__max_features=1000;, score=0.960 total time=   6.1s\n",
      "[CV 4/5] END classifier__class_weight=None, classifier__max_depth=10, classifier__n_estimators=50, preprocessor__text__max_features=1000;, score=0.956 total time=   6.0s\n",
      "[CV 5/5] END classifier__class_weight=None, classifier__max_depth=10, classifier__n_estimators=50, preprocessor__text__max_features=1000;, score=0.957 total time=   6.2s\n",
      "[CV 1/5] END classifier__class_weight=None, classifier__max_depth=10, classifier__n_estimators=50, preprocessor__text__max_features=5000;, score=0.924 total time=   4.7s\n",
      "[CV 2/5] END classifier__class_weight=None, classifier__max_depth=10, classifier__n_estimators=50, preprocessor__text__max_features=5000;, score=0.914 total time=   4.7s\n",
      "[CV 3/5] END classifier__class_weight=None, classifier__max_depth=10, classifier__n_estimators=50, preprocessor__text__max_features=5000;, score=0.923 total time=   4.8s\n",
      "[CV 4/5] END classifier__class_weight=None, classifier__max_depth=10, classifier__n_estimators=50, preprocessor__text__max_features=5000;, score=0.922 total time=   4.7s\n",
      "[CV 5/5] END classifier__class_weight=None, classifier__max_depth=10, classifier__n_estimators=50, preprocessor__text__max_features=5000;, score=0.918 total time=   4.8s\n",
      "[CV 1/5] END classifier__class_weight=None, classifier__max_depth=10, classifier__n_estimators=100, preprocessor__text__max_features=250;, score=0.959 total time=  12.1s\n",
      "[CV 2/5] END classifier__class_weight=None, classifier__max_depth=10, classifier__n_estimators=100, preprocessor__text__max_features=250;, score=0.960 total time=  12.2s\n",
      "[CV 3/5] END classifier__class_weight=None, classifier__max_depth=10, classifier__n_estimators=100, preprocessor__text__max_features=250;, score=0.960 total time=  12.3s\n",
      "[CV 4/5] END classifier__class_weight=None, classifier__max_depth=10, classifier__n_estimators=100, preprocessor__text__max_features=250;, score=0.959 total time=  12.3s\n",
      "[CV 5/5] END classifier__class_weight=None, classifier__max_depth=10, classifier__n_estimators=100, preprocessor__text__max_features=250;, score=0.959 total time=  12.3s\n",
      "[CV 1/5] END classifier__class_weight=None, classifier__max_depth=10, classifier__n_estimators=100, preprocessor__text__max_features=1000;, score=0.954 total time=   9.1s\n",
      "[CV 2/5] END classifier__class_weight=None, classifier__max_depth=10, classifier__n_estimators=100, preprocessor__text__max_features=1000;, score=0.956 total time=   9.1s\n",
      "[CV 3/5] END classifier__class_weight=None, classifier__max_depth=10, classifier__n_estimators=100, preprocessor__text__max_features=1000;, score=0.958 total time=   9.1s\n",
      "[CV 4/5] END classifier__class_weight=None, classifier__max_depth=10, classifier__n_estimators=100, preprocessor__text__max_features=1000;, score=0.957 total time=   9.3s\n",
      "[CV 5/5] END classifier__class_weight=None, classifier__max_depth=10, classifier__n_estimators=100, preprocessor__text__max_features=1000;, score=0.957 total time=   9.3s\n",
      "[CV 1/5] END classifier__class_weight=None, classifier__max_depth=10, classifier__n_estimators=100, preprocessor__text__max_features=5000;, score=0.922 total time=   6.4s\n",
      "[CV 2/5] END classifier__class_weight=None, classifier__max_depth=10, classifier__n_estimators=100, preprocessor__text__max_features=5000;, score=0.923 total time=   6.5s\n",
      "[CV 3/5] END classifier__class_weight=None, classifier__max_depth=10, classifier__n_estimators=100, preprocessor__text__max_features=5000;, score=0.947 total time=   6.4s\n",
      "[CV 4/5] END classifier__class_weight=None, classifier__max_depth=10, classifier__n_estimators=100, preprocessor__text__max_features=5000;, score=0.921 total time=   6.5s\n",
      "[CV 5/5] END classifier__class_weight=None, classifier__max_depth=10, classifier__n_estimators=100, preprocessor__text__max_features=5000;, score=0.920 total time=   6.5s\n"
     ]
    },
    {
     "data": {
      "text/plain": [
       "GridSearchCV(estimator=Pipeline(steps=[('preprocessor',\n",
       "                                        ColumnTransformer(transformers=[('text',\n",
       "                                                                         TfidfVectorizer(max_features=500,\n",
       "                                                                                         stop_words={'english'}),\n",
       "                                                                         'description'),\n",
       "                                                                        ('cat',\n",
       "                                                                         OneHotEncoder(handle_unknown='ignore'),\n",
       "                                                                         ['accessVector_v2',\n",
       "                                                                          'accessComplexity_v2',\n",
       "                                                                          'authentication_v2',\n",
       "                                                                          'confidentialityImpact_v2',\n",
       "                                                                          'integrityImpact_v2',\n",
       "                                                                          'availabilityImpact_v2'])])),\n",
       "                                       ('classifier',\n",
       "                                        RandomForestClassifier())]),\n",
       "             param_grid={'classifier__class_weight': ['balanced', None],\n",
       "                         'classifier__max_depth': [2, 5, 10],\n",
       "                         'classifier__n_estimators': [20, 50, 100],\n",
       "                         'preprocessor__text__max_features': [250, 1000, 5000]},\n",
       "             verbose=4)"
      ]
     },
     "execution_count": 18,
     "metadata": {},
     "output_type": "execute_result"
    }
   ],
   "source": [
    "# execute the parameter space exploration, where each step includes a 5 step Cross Validation\n",
    "gs = GridSearchCV(clf, param_grid=param_grid, verbose = 4)\n",
    "gs.fit(feat_train, y_train[\"scope_v3\"])"
   ]
  },
  {
   "cell_type": "code",
   "execution_count": 19,
   "id": "ab3b422f",
   "metadata": {},
   "outputs": [
    {
     "data": {
      "text/plain": [
       "{'classifier__class_weight': None,\n",
       " 'classifier__max_depth': 10,\n",
       " 'classifier__n_estimators': 100,\n",
       " 'preprocessor__text__max_features': 250}"
      ]
     },
     "execution_count": 19,
     "metadata": {},
     "output_type": "execute_result"
    }
   ],
   "source": [
    "gs.best_params_"
   ]
  },
  {
   "cell_type": "code",
   "execution_count": 20,
   "id": "84aad61e",
   "metadata": {},
   "outputs": [
    {
     "data": {
      "text/plain": [
       "Pipeline(steps=[('preprocessor',\n",
       "                 ColumnTransformer(transformers=[('text',\n",
       "                                                  TfidfVectorizer(max_features=250,\n",
       "                                                                  stop_words={'english'}),\n",
       "                                                  'description'),\n",
       "                                                 ('cat',\n",
       "                                                  OneHotEncoder(handle_unknown='ignore'),\n",
       "                                                  ['accessVector_v2',\n",
       "                                                   'accessComplexity_v2',\n",
       "                                                   'authentication_v2',\n",
       "                                                   'confidentialityImpact_v2',\n",
       "                                                   'integrityImpact_v2',\n",
       "                                                   'availabilityImpact_v2'])])),\n",
       "                ('classifier', RandomForestClassifier(max_depth=10))])"
      ]
     },
     "execution_count": 20,
     "metadata": {},
     "output_type": "execute_result"
    }
   ],
   "source": [
    "# re-train model on the full train data\n",
    "\n",
    "scope_predictor = gs.best_estimator_\n",
    "scope_predictor.fit(feat_train, y_train[\"scope_v3\"])"
   ]
  },
  {
   "cell_type": "code",
   "execution_count": 21,
   "id": "c0528f51",
   "metadata": {},
   "outputs": [
    {
     "name": "stdout",
     "output_type": "stream",
     "text": [
      "              precision    recall  f1-score   support\n",
      "\n",
      "     CHANGED       0.99      0.77      0.87     12969\n",
      "   UNCHANGED       0.96      1.00      0.98     64059\n",
      "\n",
      "    accuracy                           0.96     77028\n",
      "   macro avg       0.97      0.89      0.92     77028\n",
      "weighted avg       0.96      0.96      0.96     77028\n",
      "\n"
     ]
    }
   ],
   "source": [
    "# Consider precision and recall metrics on the train data, with respect to the CHANGED and UNCHANGED classes. \n",
    "# If needed, the amount of false negatoves, with respect to the CHANGED class, could be improved at the expense of\n",
    "# increasing the amount of false positives and decreasing recall.\n",
    "\n",
    "print(classification_report(y_train[\"scope_v3\"], scope_predictor.predict(feat_train)))"
   ]
  },
  {
   "cell_type": "code",
   "execution_count": 22,
   "id": "aef730a1",
   "metadata": {},
   "outputs": [
    {
     "name": "stdout",
     "output_type": "stream",
     "text": [
      "              precision    recall  f1-score   support\n",
      "\n",
      "     CHANGED       0.99      0.76      0.86      3230\n",
      "   UNCHANGED       0.95      1.00      0.98     16028\n",
      "\n",
      "    accuracy                           0.96     19258\n",
      "   macro avg       0.97      0.88      0.92     19258\n",
      "weighted avg       0.96      0.96      0.96     19258\n",
      "\n"
     ]
    }
   ],
   "source": [
    "# Consider precision and recall metrics on the test data, with respect to the CHANGED and UNCHANGED classes. \n",
    "\n",
    "print(classification_report(y_test[\"scope_v3\"], scope_predictor.predict(feat_test)))\n",
    "\n",
    "# The performance on train and test data is quite similar, indicaing, there is likely little overfitting."
   ]
  },
  {
   "cell_type": "code",
   "execution_count": 23,
   "id": "434a6452",
   "metadata": {},
   "outputs": [
    {
     "data": {
      "text/plain": [
       "['models/scope_predictor.joblib']"
      ]
     },
     "execution_count": 23,
     "metadata": {},
     "output_type": "execute_result"
    }
   ],
   "source": [
    "# save the model\n",
    "dump(scope_predictor, \"models/scope_predictor.joblib\")"
   ]
  },
  {
   "cell_type": "code",
   "execution_count": 24,
   "id": "0a1765e7",
   "metadata": {},
   "outputs": [],
   "source": [
    "# make predictions on unseen v2 only data\n",
    "scope_predictions = scope_predictor.predict(merged_data_cleaned_no_v3)"
   ]
  },
  {
   "cell_type": "code",
   "execution_count": 25,
   "id": "c3f61de5",
   "metadata": {},
   "outputs": [],
   "source": [
    "# store predictions\n",
    "pd.DataFrame({\"cve_id\": merged_data_cleaned_no_v3.cve_id,\n",
    "             \"scope_v3_prediction\": scope_predictions}).to_csv(\"predictions/scope_predictions.csv\")"
   ]
  },
  {
   "cell_type": "markdown",
   "id": "1dfd6d33",
   "metadata": {},
   "source": [
    "### 3. Predicting impact metrics"
   ]
  },
  {
   "cell_type": "markdown",
   "id": "541a6ddb",
   "metadata": {},
   "source": [
    "From the CVSS documentation, as well as the talk on CVSS: https://www.youtube.com/watch?v=vTA3K1riS6E, the v3 impact metrics seem to loosely follow the following relationship with v2 features and scope.\n",
    "\n",
    "- The v3 impact metric value is **LOW** if there is Partial loss (v2) without direct, serious impact on affected scope.\n",
    "\n",
    "- The v3 impact metric value is **HIGH** if there is complete loss (v2) or there is partial loss (v2) without direct, serious impact on affected scope.\n",
    "\n",
    "This, however, is not reflected clearly in the data:"
   ]
  },
  {
   "cell_type": "code",
   "execution_count": 26,
   "id": "c5cfd113",
   "metadata": {},
   "outputs": [
    {
     "data": {
      "text/plain": [
       "scope_v3   availabilityImpact_v3  availabilityImpact_v2\n",
       "CHANGED    HIGH                   PARTIAL                   1185\n",
       "                                  COMPLETE                  1082\n",
       "                                  NONE                        30\n",
       "           LOW                    PARTIAL                    240\n",
       "                                  NONE                        19\n",
       "           NONE                   NONE                     13615\n",
       "                                  PARTIAL                     26\n",
       "                                  COMPLETE                     2\n",
       "UNCHANGED  HIGH                   PARTIAL                  36273\n",
       "                                  COMPLETE                 16529\n",
       "                                  NONE                      1279\n",
       "           LOW                    PARTIAL                   2075\n",
       "                                  NONE                        52\n",
       "                                  COMPLETE                     4\n",
       "           NONE                   NONE                     23281\n",
       "                                  PARTIAL                    521\n",
       "                                  COMPLETE                    52\n",
       "Name: availabilityImpact_v2, dtype: int64"
      ]
     },
     "execution_count": 26,
     "metadata": {},
     "output_type": "execute_result"
    }
   ],
   "source": [
    "# Consider the following example, where the largest group the availabilityImpact_v3 takes value HIGH (the scope is\n",
    "# UNCHANGED) and availabilityImpact_v2 is PARTIAL\n",
    "\n",
    "merged_data_cleaned_v3.groupby([\"scope_v3\", \"availabilityImpact_v3\"])[\"availabilityImpact_v2\"].value_counts()"
   ]
  },
  {
   "cell_type": "markdown",
   "id": "ef9e1a72",
   "metadata": {},
   "source": [
    "Nevertheless a rule based approach can be attempted. Using a predicted value of Scope_v3, one can approximate the value of an impact metric."
   ]
  },
  {
   "cell_type": "code",
   "execution_count": 27,
   "id": "3ffa9469",
   "metadata": {},
   "outputs": [],
   "source": [
    "from typing import Tuple\n",
    "\n",
    "class RuleBasedClassifer(BaseEstimator):\n",
    "    \n",
    "    def __init__(self, feature_name: str, scope_prediction_name: str):\n",
    "        self.feature_name = feature_name\n",
    "        self.scope_prediction_name = scope_prediction_name\n",
    "    \n",
    "    def fit(self, X: pd.DataFrame, y: pd.Series) : pass\n",
    "        \n",
    "    def predict(self, X: pd.DataFrame) -> Tuple:\n",
    "        \"\"\"\n",
    "        Make prediction based on rules\n",
    "        \n",
    "        :params X:\n",
    "        \"\"\"\n",
    "        return X.apply(lambda row: self._map_to_metric(row), axis = 1)\n",
    "    \n",
    "    def _map_to_metric(self, row: pd.Series) -> str:\n",
    "        \"\"\"\n",
    "        Contains the logic of how the prediction is made.\n",
    "        \n",
    "        :params row: Tuple\n",
    "         \"\"\"\n",
    "        \n",
    "        if (row[self.feature_name] == \"COMPLETE\") or (row[self.scope_prediction_name] == \"CHANGED\") and (row[self.feature_name] == \"PARTIAL\"):\n",
    "            return \"HIGH\"\n",
    "        \n",
    "        elif (row[\"scope_v3\"] == \"UNCHANGED\") and (row[self.feature_name] == \"PARTIAL\"):\n",
    "            return \"LOW\"\n",
    "        \n",
    "        else:\n",
    "            return \"NONE\"\n",
    "        "
   ]
  },
  {
   "cell_type": "code",
   "execution_count": 28,
   "id": "73862bb9",
   "metadata": {},
   "outputs": [],
   "source": [
    "# add scope predictions to the train and test data for simplicity\n",
    "scope_prediction_var = \"scope_prediction\"\n",
    "feat_train[scope_prediction_var] = scope_predictor.predict(feat_train)\n",
    "feat_test[scope_prediction_var] = scope_predictor.predict(feat_test)"
   ]
  },
  {
   "cell_type": "code",
   "execution_count": 29,
   "id": "59f71665",
   "metadata": {},
   "outputs": [
    {
     "name": "stdout",
     "output_type": "stream",
     "text": [
      "              precision    recall  f1-score   support\n",
      "\n",
      "        HIGH       0.99      0.32      0.48     45120\n",
      "         LOW       0.05      0.87      0.10      1918\n",
      "        NONE       0.94      0.98      0.96     29990\n",
      "\n",
      "    accuracy                           0.59     77028\n",
      "   macro avg       0.66      0.72      0.51     77028\n",
      "weighted avg       0.95      0.59      0.66     77028\n",
      "\n",
      "              precision    recall  f1-score   support\n",
      "\n",
      "        HIGH       0.99      0.31      0.48     11269\n",
      "         LOW       0.05      0.86      0.10       472\n",
      "        NONE       0.93      0.98      0.96      7517\n",
      "\n",
      "    accuracy                           0.59     19258\n",
      "   macro avg       0.66      0.72      0.51     19258\n",
      "weighted avg       0.95      0.59      0.66     19258\n",
      "\n"
     ]
    }
   ],
   "source": [
    "# let us evaluate the performance of the rule based classifier on test data for availabilityImpact_v3. There are\n",
    "# large amounts of false negatives in the HIGH class, which reflects the mismatch between rules and data, outlined before\n",
    "\n",
    "rbc = RuleBasedClassifer(feature_name = 'availabilityImpact_v2', scope_prediction_name=scope_prediction_var)\n",
    "print(classification_report(y_train['availabilityImpact_v3'], rbc.predict(feat_train)))\n",
    "print(classification_report(y_test['availabilityImpact_v3'], rbc.predict(feat_test)))"
   ]
  },
  {
   "cell_type": "markdown",
   "id": "4e06223f",
   "metadata": {},
   "source": [
    "Let us try an approach, similar to scope prediction, where the text description and v2 features are used to improve the model performance (for simplicity we use the same optimal parameters as before, however this could be improved in further iterations):"
   ]
  },
  {
   "cell_type": "code",
   "execution_count": 30,
   "id": "886f48a7",
   "metadata": {},
   "outputs": [],
   "source": [
    "class PipelineFactory:\n",
    "    \"\"\"\n",
    "    Generate models, predicting impact metrics, similar to the one used for scope\n",
    "    \"\"\"\n",
    "    def __init__(self, categorical_feats: List[str], text_feature: str):\n",
    "        self.categorical_feats = categorical_feats\n",
    "        self.text_feature = text_feature\n",
    "        \n",
    "    def generate_pipeline(self, target_name: str) -> Pipeline:\n",
    "        \"\"\"\n",
    "        Generate a pipeline to predict a target.\n",
    "        The hyperparameters are taken from before for simplicity.\n",
    "        Note the optimal hyperparameters may vary depending on the run (e.g. if new data is available)\n",
    "        \"\"\"\n",
    "        ohe = OneHotEncoder(handle_unknown='ignore')\n",
    "        vectoriser = TfidfVectorizer(stop_words={\"english\"}, max_features = 250)\n",
    "        rf = RandomForestClassifier(n_estimators=100, max_depth=10)\n",
    "        \n",
    "        preprocessor = ColumnTransformer(\n",
    "            transformers=[\n",
    "                (\"text\", vectoriser, self.text_feature),\n",
    "                (\"cat\", ohe, self.categorical_feats)\n",
    "            ])\n",
    "        \n",
    "        \n",
    "        clf = Pipeline(\n",
    "            steps=[(\"preprocessor\", preprocessor),\n",
    "           (\"classifier\", rf)])\n",
    "        \n",
    "        return clf\n",
    "    \n",
    "    def generate_pipelines(self, targets: List[str]) -> Dict[str, Pipeline]:\n",
    "        \"\"\"\n",
    "        Generate multiple pipelines based on targets\n",
    "        \"\"\"\n",
    "        return {target: self.generate_pipeline(target) for target in targets}\n"
   ]
  },
  {
   "cell_type": "code",
   "execution_count": 31,
   "id": "f15221df",
   "metadata": {},
   "outputs": [],
   "source": [
    "targets = ['confidentialityImpact_v3', 'integrityImpact_v3','availabilityImpact_v3']"
   ]
  },
  {
   "cell_type": "code",
   "execution_count": 32,
   "id": "2025acf0",
   "metadata": {},
   "outputs": [],
   "source": [
    "ppf = PipelineFactory(categorical_feats=v2_metrics, text_feature='description')"
   ]
  },
  {
   "cell_type": "code",
   "execution_count": 33,
   "id": "d9a4fd82",
   "metadata": {},
   "outputs": [],
   "source": [
    "predictor_pipelines = ppf.generate_pipelines(targets)"
   ]
  },
  {
   "cell_type": "code",
   "execution_count": 34,
   "id": "10703606",
   "metadata": {},
   "outputs": [
    {
     "name": "stdout",
     "output_type": "stream",
     "text": [
      "Training confidentialityImpact_v3_predictor\n",
      "Training integrityImpact_v3_predictor\n",
      "Training availabilityImpact_v3_predictor\n"
     ]
    }
   ],
   "source": [
    "# train the models\n",
    "for target, pp in predictor_pipelines.items():\n",
    "    print(f\"Training {target}_predictor\")\n",
    "    pp.fit(feat_train, y_train[target])"
   ]
  },
  {
   "cell_type": "code",
   "execution_count": 35,
   "id": "b2ab0e83",
   "metadata": {},
   "outputs": [
    {
     "name": "stdout",
     "output_type": "stream",
     "text": [
      "confidentialityImpact_v3\n",
      "Train performance\n",
      "              precision    recall  f1-score   support\n",
      "\n",
      "        HIGH       0.90      1.00      0.95     45020\n",
      "         LOW       0.97      0.66      0.79     15006\n",
      "        NONE       0.99      0.98      0.99     17002\n",
      "\n",
      "    accuracy                           0.93     77028\n",
      "   macro avg       0.95      0.88      0.91     77028\n",
      "weighted avg       0.93      0.93      0.92     77028\n",
      "\n",
      "Test performance\n",
      "              precision    recall  f1-score   support\n",
      "\n",
      "        HIGH       0.90      1.00      0.94     11272\n",
      "         LOW       0.96      0.65      0.77      3738\n",
      "        NONE       0.99      0.98      0.98      4248\n",
      "\n",
      "    accuracy                           0.92     19258\n",
      "   macro avg       0.95      0.87      0.90     19258\n",
      "weighted avg       0.93      0.92      0.92     19258\n",
      "\n",
      "integrityImpact_v3\n",
      "Train performance\n",
      "              precision    recall  f1-score   support\n",
      "\n",
      "        HIGH       0.94      0.95      0.94     38958\n",
      "         LOW       0.92      0.81      0.86     13753\n",
      "        NONE       0.96      1.00      0.98     24317\n",
      "\n",
      "    accuracy                           0.94     77028\n",
      "   macro avg       0.94      0.92      0.93     77028\n",
      "weighted avg       0.94      0.94      0.94     77028\n",
      "\n",
      "Test performance\n",
      "              precision    recall  f1-score   support\n",
      "\n",
      "        HIGH       0.94      0.95      0.94      9712\n",
      "         LOW       0.91      0.81      0.86      3357\n",
      "        NONE       0.96      1.00      0.98      6189\n",
      "\n",
      "    accuracy                           0.94     19258\n",
      "   macro avg       0.93      0.92      0.93     19258\n",
      "weighted avg       0.94      0.94      0.94     19258\n",
      "\n",
      "availabilityImpact_v3\n",
      "Train performance\n",
      "              precision    recall  f1-score   support\n",
      "\n",
      "        HIGH       0.96      0.98      0.97     45120\n",
      "         LOW       0.98      0.22      0.36      1918\n",
      "        NONE       0.96      0.99      0.97     29990\n",
      "\n",
      "    accuracy                           0.96     77028\n",
      "   macro avg       0.97      0.73      0.77     77028\n",
      "weighted avg       0.96      0.96      0.96     77028\n",
      "\n",
      "Test performance\n",
      "              precision    recall  f1-score   support\n",
      "\n",
      "        HIGH       0.96      0.98      0.97     11269\n",
      "         LOW       0.98      0.22      0.36       472\n",
      "        NONE       0.96      0.98      0.97      7517\n",
      "\n",
      "    accuracy                           0.96     19258\n",
      "   macro avg       0.97      0.73      0.77     19258\n",
      "weighted avg       0.96      0.96      0.95     19258\n",
      "\n"
     ]
    }
   ],
   "source": [
    "# evaluate performance\n",
    "for target, pp in predictor_pipelines.items():\n",
    "    print(target)\n",
    "    print(\"Train performance\")\n",
    "    print(classification_report(y_train[target], pp.predict(feat_train)))\n",
    "    print(\"Test performance\")\n",
    "    print(classification_report(y_test[target], pp.predict(feat_test)))\n",
    "    \n",
    "# The performance is better than that of the rule based approach. There is, however a large number of false \n",
    "# negatives predicted in availabilityImpact_v3, which could be explained by the small number of LOW samples"
   ]
  },
  {
   "cell_type": "code",
   "execution_count": 36,
   "id": "d510d1fa",
   "metadata": {},
   "outputs": [
    {
     "name": "stderr",
     "output_type": "stream",
     "text": [
      "INFO:root:Saving model\n",
      "INFO:root:Saving model\n",
      "INFO:root:Saving model\n"
     ]
    }
   ],
   "source": [
    "# store models\n",
    "for feat, pp in predictor_pipelines.items():\n",
    "    logging.info(\"Saving model\")\n",
    "    dump(pp, f\"models/{feat}_predictor.joblib\")"
   ]
  },
  {
   "cell_type": "code",
   "execution_count": 37,
   "id": "6191e4c9",
   "metadata": {},
   "outputs": [
    {
     "name": "stdout",
     "output_type": "stream",
     "text": [
      "confidentialityImpact_v3\n",
      "Making predictions on unseen v2 only data\n",
      "integrityImpact_v3\n",
      "Making predictions on unseen v2 only data\n",
      "availabilityImpact_v3\n",
      "Making predictions on unseen v2 only data\n"
     ]
    }
   ],
   "source": [
    "# make predictions on unseen v2 only data and store\n",
    "for target, pp in predictor_pipelines.items():\n",
    "    print(target)\n",
    "    print(\"Making predictions on unseen v2 only data\")\n",
    "    predictions = pp.predict(merged_data_cleaned_no_v3)\n",
    "    pd.DataFrame({\"cve_id\": merged_data_cleaned_no_v3.cve_id,\n",
    "             f\"{target}_prediction\": predictions}).to_csv(f\"predictions/{target}_predictions.csv\")"
   ]
  },
  {
   "cell_type": "code",
   "execution_count": null,
   "id": "d6df0149",
   "metadata": {},
   "outputs": [],
   "source": []
  }
 ],
 "metadata": {
  "kernelspec": {
   "display_name": "Python 3",
   "language": "python",
   "name": "python3"
  },
  "language_info": {
   "codemirror_mode": {
    "name": "ipython",
    "version": 3
   },
   "file_extension": ".py",
   "mimetype": "text/x-python",
   "name": "python",
   "nbconvert_exporter": "python",
   "pygments_lexer": "ipython3",
   "version": "3.9.7"
  }
 },
 "nbformat": 4,
 "nbformat_minor": 5
}
